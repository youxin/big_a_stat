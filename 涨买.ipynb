{
 "cells": [
  {
   "cell_type": "code",
   "id": "initial_id",
   "metadata": {
    "collapsed": true,
    "ExecuteTime": {
     "end_time": "2025-05-25T17:08:28.805920Z",
     "start_time": "2025-05-25T17:08:28.792098Z"
    }
   },
   "source": [
    "import pandas as pd\n",
    "\n",
    "filename = '../big_a_data/all.csv'\n",
    "df = pd.read_csv(filename, converters={'code': str})\n",
    "#df = df[df['code'].isin(['000538', '601601', '601928', '600750', '601728', '601166', '600016', '600282', '601318', '600737', '000895', '001965', '600941', '601127', '600062', '600660', '600036', '600887', '601107', '000999', '002179', '000063', '000858'])]\n",
    "df = df[~df['code'].str.startswith(('300', '688'))] #去掉创业板和科板\n",
    "DS_NAME = 'all'\n",
    "#DS_NAME = '自选'\n",
    "print('Done', len(df))\n",
    "df = df[['code', 'name', '股息率_2024']].copy()\n",
    "#df.head(3)"
   ],
   "outputs": [
    {
     "name": "stdout",
     "output_type": "stream",
     "text": [
      "Done 3810\n"
     ]
    }
   ],
   "execution_count": 38
  },
  {
   "metadata": {
    "ExecuteTime": {
     "end_time": "2025-05-25T17:08:59.716110Z",
     "start_time": "2025-05-25T17:08:28.807116Z"
    }
   },
   "cell_type": "code",
   "source": [
    "str_today = '2025-05-23'\n",
    "DURATION = 330\n",
    "DAYS_PRE = 2\n",
    "DAYS_NEXT = 5\n",
    "ZHANG = 0.5\n",
    "cols_pre = [f'd-{i}' for i in range(DAYS_PRE, 0, -1)]\n",
    "cols_next = [f'd{i}' for i in range(1, DAYS_NEXT + 1)]\n",
    "filename_output = f'涨买_前{DAYS_PRE}+日跌_今涨_收盘价买入_后{DAYS_NEXT}日_涨{ZHANG}_{str_today}_{DS_NAME}.csv'\n",
    "df_out = pd.DataFrame(columns=['code', 'select', 'get', 'rate', 'profit_min'])\n",
    "\n",
    "for code in df['code']:\n",
    "    print(code, end='\\r')\n",
    "    df_process = pd.read_csv(f'../big_a_ds/process_daily_2nd/{code}.csv')\n",
    "    if df_process.iloc[-1]['日期'] != str_today: continue #停牌票\n",
    "    if len(df_process) < DURATION + DAYS_PRE + DAYS_NEXT + DAYS_NEXT: continue #不够数量\n",
    "    \n",
    "    #prepare data\n",
    "    df_select = df_process[-DURATION - DAYS_NEXT : -DAYS_NEXT].copy()\n",
    "    df_select[f'后{DAYS_NEXT}日最大涨幅'] = df_select[cols_next].max(axis=1)\n",
    "    \n",
    "    #buy condition\n",
    "    df_select = df_select[df_select['收盘'] > df_select['开盘']]\n",
    "    df_select = df_select[df_select[cols_pre].eq('green').all(axis=1)]\n",
    "    \n",
    "    #get\n",
    "    df_get = df_select[df_select[f'后{DAYS_NEXT}日最大涨幅'] >= ZHANG]\n",
    "    \n",
    "    #record\n",
    "    if len(df_get) > 0:\n",
    "        new_row = {'code': code, \n",
    "                   'select': len(df_select), \n",
    "                   'get': len(df_get), \n",
    "                   'rate': len(df_get) / len(df_select) * 100, \n",
    "                   'profit_min': df_get[f'后{DAYS_NEXT}日最大涨幅'].min()}\n",
    "        df_out.loc[len(df_out)] = new_row\n",
    "\n",
    "df_out = pd.merge(df, df_out, on='code', how='inner')\n",
    "print('\\r\\nDone', len(df_out))\n",
    "#print(df_out)\n",
    "df_out['rate'] = df_out['rate'].round(2)\n",
    "df_out.sort_values(by=['rate', 'select'], ascending=False, inplace=True)\n",
    "df_out.to_csv(filename_output, index=False)"
   ],
   "id": "43c5a2c1ac6e6077",
   "outputs": [
    {
     "name": "stdout",
     "output_type": "stream",
     "text": [
      "873833\r\n",
      "Done 3736\n"
     ]
    }
   ],
   "execution_count": 39
  },
  {
   "metadata": {},
   "cell_type": "markdown",
   "source": [
    "df_temp = pd.read_csv(filename_output, converters={'code': str})\n",
    "#df_temp = df_temp[['code', 'name', '股息率_2024', 'select', 'get', 'rate', 'profit_min']].copy()\n",
    "df_temp = df_temp[df_temp['股息率_2024'] > 3]\n",
    "#df_temp = df_temp[df_temp['select'] > 30]\n",
    "df_temp = df_temp[df_temp['rate'] > 90]\n",
    "df_temp.sort_values(by=['rate', 'select'], ascending=False, inplace=True)\n",
    "print(df_temp)\n",
    "print(len(df_temp))\n",
    "df_temp.to_csv('关注_' + filename_output, index=False)"
   ],
   "id": "494bbccb03b96028"
  },
  {
   "metadata": {
    "ExecuteTime": {
     "end_time": "2025-05-25T17:08:59.718904Z",
     "start_time": "2025-05-25T17:08:59.717161Z"
    }
   },
   "cell_type": "code",
   "source": "",
   "id": "44f142b075b6bcd6",
   "outputs": [],
   "execution_count": 39
  }
 ],
 "metadata": {
  "kernelspec": {
   "display_name": "Python 3",
   "language": "python",
   "name": "python3"
  },
  "language_info": {
   "codemirror_mode": {
    "name": "ipython",
    "version": 2
   },
   "file_extension": ".py",
   "mimetype": "text/x-python",
   "name": "python",
   "nbconvert_exporter": "python",
   "pygments_lexer": "ipython2",
   "version": "2.7.6"
  }
 },
 "nbformat": 4,
 "nbformat_minor": 5
}
