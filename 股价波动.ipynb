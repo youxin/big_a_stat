{
 "cells": [
  {
   "cell_type": "code",
   "id": "b4463275-47cb-4078-b928-cbacddad8a44",
   "metadata": {
    "ExecuteTime": {
     "end_time": "2024-07-13T05:18:44.750539Z",
     "start_time": "2024-07-13T05:18:44.737787Z"
    }
   },
   "source": [
    "import pandas as pd\n",
    "\n",
    "filename = '../big_a_data/all.csv'\n",
    "df = pd.read_csv(filename, converters={'code': str})\n",
    "print(f'Done, {len(df)}')"
   ],
   "outputs": [
    {
     "name": "stdout",
     "output_type": "stream",
     "text": [
      "Done, 5361\n"
     ]
    }
   ],
   "execution_count": 6
  },
  {
   "cell_type": "code",
   "id": "6d96037d-10f7-4efb-b3c3-2ec34889b950",
   "metadata": {
    "ExecuteTime": {
     "end_time": "2024-07-13T05:19:02.795213Z",
     "start_time": "2024-07-13T05:18:45.184443Z"
    }
   },
   "source": [
    "start = '2023-10-10'\n",
    "mid = '2024-05-10'\n",
    "end = '2024-07-12'\n",
    "\n",
    "df['最低'] = 0.0 #start, mid\n",
    "df['最高'] = 0.0 #start, end\n",
    "df['最新'] = 0.0 #end\n",
    "df['最高_比_最低'] = 0.0\n",
    "df['最新_比_最高'] = 0.0\n",
    "\n",
    "for idx_df, row_df in df.iterrows():\n",
    "    code = row_df['code'] \n",
    "    print(code, end = '\\r')\n",
    "    file_daily = f'../big_a_data/hist_daily/{code}.csv'\n",
    "    df_daily = pd.read_csv(file_daily)\n",
    "    df_daily.set_index('日期', inplace=True)\n",
    "    \n",
    "    if (start not in df_daily.index or \n",
    "        mid   not in df_daily.index or \n",
    "        end   not in df_daily.index):\n",
    "        continue\n",
    "\n",
    "    df.at[idx_df, '最低'] = df_daily.loc[start:mid, '收盘'].min()\n",
    "    df.at[idx_df, '最高'] = df_daily.loc[start:end, '收盘'].max()\n",
    "    df.at[idx_df, '最新'] = df_daily.loc[end, '收盘']\n",
    "\n",
    "df['最高_比_最低'] = round((df['最高']/df['最低'] - 1) * 100, 2)\n",
    "df['最新_比_最高'] = round((df['最新']/df['最高'] - 1) * 100, 2)\n",
    "\n",
    "print('\\r\\nDone', len(df))\n",
    "df.head(3)"
   ],
   "outputs": [
    {
     "name": "stdout",
     "output_type": "stream",
     "text": [
      "920002\r\n",
      "Done 5361\n"
     ]
    },
    {
     "data": {
      "text/plain": [
       "     code  name     行业      上市时间     最新    涨幅  股息率_2023    最低     最高  最高_比_最低  \\\n",
       "0  000001  平安银行     银行  19910403  10.31  -0.1       7.1  9.03  11.56    28.02   \n",
       "1  000002   万科A  房地产开发  19910129   6.95  2.41       0.0  6.54  12.84    96.33   \n",
       "2  000004  国华网安   软件开发  19901201   9.96  1.81       0.0  9.12  19.52   114.04   \n",
       "\n",
       "   最新_比_最高  \n",
       "0   -10.81  \n",
       "1   -45.87  \n",
       "2   -48.98  "
      ],
      "text/html": [
       "<div>\n",
       "<style scoped>\n",
       "    .dataframe tbody tr th:only-of-type {\n",
       "        vertical-align: middle;\n",
       "    }\n",
       "\n",
       "    .dataframe tbody tr th {\n",
       "        vertical-align: top;\n",
       "    }\n",
       "\n",
       "    .dataframe thead th {\n",
       "        text-align: right;\n",
       "    }\n",
       "</style>\n",
       "<table border=\"1\" class=\"dataframe\">\n",
       "  <thead>\n",
       "    <tr style=\"text-align: right;\">\n",
       "      <th></th>\n",
       "      <th>code</th>\n",
       "      <th>name</th>\n",
       "      <th>行业</th>\n",
       "      <th>上市时间</th>\n",
       "      <th>最新</th>\n",
       "      <th>涨幅</th>\n",
       "      <th>股息率_2023</th>\n",
       "      <th>最低</th>\n",
       "      <th>最高</th>\n",
       "      <th>最高_比_最低</th>\n",
       "      <th>最新_比_最高</th>\n",
       "    </tr>\n",
       "  </thead>\n",
       "  <tbody>\n",
       "    <tr>\n",
       "      <th>0</th>\n",
       "      <td>000001</td>\n",
       "      <td>平安银行</td>\n",
       "      <td>银行</td>\n",
       "      <td>19910403</td>\n",
       "      <td>10.31</td>\n",
       "      <td>-0.1</td>\n",
       "      <td>7.1</td>\n",
       "      <td>9.03</td>\n",
       "      <td>11.56</td>\n",
       "      <td>28.02</td>\n",
       "      <td>-10.81</td>\n",
       "    </tr>\n",
       "    <tr>\n",
       "      <th>1</th>\n",
       "      <td>000002</td>\n",
       "      <td>万科A</td>\n",
       "      <td>房地产开发</td>\n",
       "      <td>19910129</td>\n",
       "      <td>6.95</td>\n",
       "      <td>2.41</td>\n",
       "      <td>0.0</td>\n",
       "      <td>6.54</td>\n",
       "      <td>12.84</td>\n",
       "      <td>96.33</td>\n",
       "      <td>-45.87</td>\n",
       "    </tr>\n",
       "    <tr>\n",
       "      <th>2</th>\n",
       "      <td>000004</td>\n",
       "      <td>国华网安</td>\n",
       "      <td>软件开发</td>\n",
       "      <td>19901201</td>\n",
       "      <td>9.96</td>\n",
       "      <td>1.81</td>\n",
       "      <td>0.0</td>\n",
       "      <td>9.12</td>\n",
       "      <td>19.52</td>\n",
       "      <td>114.04</td>\n",
       "      <td>-48.98</td>\n",
       "    </tr>\n",
       "  </tbody>\n",
       "</table>\n",
       "</div>"
      ]
     },
     "execution_count": 7,
     "metadata": {},
     "output_type": "execute_result"
    }
   ],
   "execution_count": 7
  },
  {
   "cell_type": "code",
   "id": "2558b246-1a0c-41e0-93d6-2db9f2271239",
   "metadata": {
    "ExecuteTime": {
     "end_time": "2024-07-13T06:08:04.187768Z",
     "start_time": "2024-07-13T06:08:04.174164Z"
    }
   },
   "source": [
    "df_temp = df.copy()\n",
    "\n",
    "#df_temp = df_temp[\n",
    "                  #(df_temp['最低'] <  df_temp['最高']) &\n",
    "                  #(df_temp['最高'] >  df_temp['最低'] * 1.20) &\n",
    "                  #(df_temp['最新'] >= df_temp['最高'] * 0.9) &\n",
    "#                  (df_temp['最新'] <= df_temp['最高'])\n",
    "#                 ]\n",
    "#df_temp.sort_values(by = ['最新_比_最高'], inplace = True)\n",
    "\n",
    "df_temp['最新_比_最低'] = round((df['最新']/df['最低'] - 1) * 100, 2)\n",
    "df_temp = df_temp[df_temp['股息率_2023'] >= 3]\n",
    "df_temp.drop(['上市时间', '最低', '最高', '最新', '涨幅'], axis = 1, inplace = True)\n",
    "df_temp.to_csv(f'股价波动_{start}_{mid}_{end}.csv', index = False)\n",
    "print('Done', len(df_temp))\n",
    "df_temp.head(3)"
   ],
   "outputs": [
    {
     "name": "stdout",
     "output_type": "stream",
     "text": [
      "Done 819\n"
     ]
    },
    {
     "data": {
      "text/plain": [
       "     code  name     行业  股息率_2023  最高_比_最低  最新_比_最高  最新_比_最低\n",
       "0  000001  平安银行     银行      7.10    28.02   -10.81    14.17\n",
       "8  000011  深物业A  房地产开发      4.14    34.24   -26.76    -1.68\n",
       "9  000012   南玻A   玻璃玻纤      4.85    16.24   -12.63     1.57"
      ],
      "text/html": [
       "<div>\n",
       "<style scoped>\n",
       "    .dataframe tbody tr th:only-of-type {\n",
       "        vertical-align: middle;\n",
       "    }\n",
       "\n",
       "    .dataframe tbody tr th {\n",
       "        vertical-align: top;\n",
       "    }\n",
       "\n",
       "    .dataframe thead th {\n",
       "        text-align: right;\n",
       "    }\n",
       "</style>\n",
       "<table border=\"1\" class=\"dataframe\">\n",
       "  <thead>\n",
       "    <tr style=\"text-align: right;\">\n",
       "      <th></th>\n",
       "      <th>code</th>\n",
       "      <th>name</th>\n",
       "      <th>行业</th>\n",
       "      <th>股息率_2023</th>\n",
       "      <th>最高_比_最低</th>\n",
       "      <th>最新_比_最高</th>\n",
       "      <th>最新_比_最低</th>\n",
       "    </tr>\n",
       "  </thead>\n",
       "  <tbody>\n",
       "    <tr>\n",
       "      <th>0</th>\n",
       "      <td>000001</td>\n",
       "      <td>平安银行</td>\n",
       "      <td>银行</td>\n",
       "      <td>7.10</td>\n",
       "      <td>28.02</td>\n",
       "      <td>-10.81</td>\n",
       "      <td>14.17</td>\n",
       "    </tr>\n",
       "    <tr>\n",
       "      <th>8</th>\n",
       "      <td>000011</td>\n",
       "      <td>深物业A</td>\n",
       "      <td>房地产开发</td>\n",
       "      <td>4.14</td>\n",
       "      <td>34.24</td>\n",
       "      <td>-26.76</td>\n",
       "      <td>-1.68</td>\n",
       "    </tr>\n",
       "    <tr>\n",
       "      <th>9</th>\n",
       "      <td>000012</td>\n",
       "      <td>南玻A</td>\n",
       "      <td>玻璃玻纤</td>\n",
       "      <td>4.85</td>\n",
       "      <td>16.24</td>\n",
       "      <td>-12.63</td>\n",
       "      <td>1.57</td>\n",
       "    </tr>\n",
       "  </tbody>\n",
       "</table>\n",
       "</div>"
      ]
     },
     "execution_count": 13,
     "metadata": {},
     "output_type": "execute_result"
    }
   ],
   "execution_count": 13
  },
  {
   "cell_type": "code",
   "id": "a925dfa5-6e2a-4eba-ad8a-8fee403db0b6",
   "metadata": {
    "ExecuteTime": {
     "end_time": "2024-07-07T17:03:38.521370Z",
     "start_time": "2024-07-07T17:03:38.520123Z"
    }
   },
   "source": [],
   "outputs": [],
   "execution_count": 26
  },
  {
   "cell_type": "code",
   "id": "dff3fe5f-9653-4157-8175-d69a57411d6a",
   "metadata": {
    "ExecuteTime": {
     "end_time": "2024-07-07T17:03:38.523227Z",
     "start_time": "2024-07-07T17:03:38.522031Z"
    }
   },
   "source": [],
   "outputs": [],
   "execution_count": 26
  }
 ],
 "metadata": {
  "kernelspec": {
   "display_name": "Python 3 (ipykernel)",
   "language": "python",
   "name": "python3"
  },
  "language_info": {
   "codemirror_mode": {
    "name": "ipython",
    "version": 3
   },
   "file_extension": ".py",
   "mimetype": "text/x-python",
   "name": "python",
   "nbconvert_exporter": "python",
   "pygments_lexer": "ipython3",
   "version": "3.11.9"
  }
 },
 "nbformat": 4,
 "nbformat_minor": 5
}
