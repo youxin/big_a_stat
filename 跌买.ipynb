{
 "cells": [
  {
   "cell_type": "code",
   "id": "initial_id",
   "metadata": {
    "collapsed": true,
    "ExecuteTime": {
     "end_time": "2024-07-28T16:40:45.148178Z",
     "start_time": "2024-07-28T16:40:45.130646Z"
    }
   },
   "source": [
    "import pandas as pd\n",
    "\n",
    "filename = '../big_a_data/all.csv'\n",
    "df = pd.read_csv(filename, converters={'code': str})\n",
    "#df = df[df['code'].isin(['000063', '002179', '002223', '600660', '600887', '601318'])]\n",
    "df = df[~df['code'].str.startswith(('300', '688'))] #去掉创业板和科板\n",
    "print('Done', len(df))\n",
    "df.head(3)"
   ],
   "outputs": [
    {
     "name": "stdout",
     "output_type": "stream",
     "text": [
      "Done 3837\n"
     ]
    },
    {
     "data": {
      "text/plain": [
       "     code  name     行业      上市时间     最新    涨幅  股息率_2023\n",
       "0  000001  平安银行     银行  19910403  10.13  -0.1       7.1\n",
       "1  000002   万科A  房地产开发  19910129   6.81  2.41       0.0\n",
       "2  000004  国华网安   软件开发  19901201  10.12  1.81       0.0"
      ],
      "text/html": [
       "<div>\n",
       "<style scoped>\n",
       "    .dataframe tbody tr th:only-of-type {\n",
       "        vertical-align: middle;\n",
       "    }\n",
       "\n",
       "    .dataframe tbody tr th {\n",
       "        vertical-align: top;\n",
       "    }\n",
       "\n",
       "    .dataframe thead th {\n",
       "        text-align: right;\n",
       "    }\n",
       "</style>\n",
       "<table border=\"1\" class=\"dataframe\">\n",
       "  <thead>\n",
       "    <tr style=\"text-align: right;\">\n",
       "      <th></th>\n",
       "      <th>code</th>\n",
       "      <th>name</th>\n",
       "      <th>行业</th>\n",
       "      <th>上市时间</th>\n",
       "      <th>最新</th>\n",
       "      <th>涨幅</th>\n",
       "      <th>股息率_2023</th>\n",
       "    </tr>\n",
       "  </thead>\n",
       "  <tbody>\n",
       "    <tr>\n",
       "      <th>0</th>\n",
       "      <td>000001</td>\n",
       "      <td>平安银行</td>\n",
       "      <td>银行</td>\n",
       "      <td>19910403</td>\n",
       "      <td>10.13</td>\n",
       "      <td>-0.1</td>\n",
       "      <td>7.1</td>\n",
       "    </tr>\n",
       "    <tr>\n",
       "      <th>1</th>\n",
       "      <td>000002</td>\n",
       "      <td>万科A</td>\n",
       "      <td>房地产开发</td>\n",
       "      <td>19910129</td>\n",
       "      <td>6.81</td>\n",
       "      <td>2.41</td>\n",
       "      <td>0.0</td>\n",
       "    </tr>\n",
       "    <tr>\n",
       "      <th>2</th>\n",
       "      <td>000004</td>\n",
       "      <td>国华网安</td>\n",
       "      <td>软件开发</td>\n",
       "      <td>19901201</td>\n",
       "      <td>10.12</td>\n",
       "      <td>1.81</td>\n",
       "      <td>0.0</td>\n",
       "    </tr>\n",
       "  </tbody>\n",
       "</table>\n",
       "</div>"
      ]
     },
     "execution_count": 242,
     "metadata": {},
     "output_type": "execute_result"
    }
   ],
   "execution_count": 242
  },
  {
   "metadata": {
    "ExecuteTime": {
     "end_time": "2024-07-28T16:41:41.171314Z",
     "start_time": "2024-07-28T16:40:45.149396Z"
    }
   },
   "cell_type": "code",
   "source": [
    "str_today = '2024-07-26'\n",
    "DURATION = 330\n",
    "DAYS_PRE = 5\n",
    "DAYS_NEXT = 5\n",
    "DIE = 5\n",
    "cols_pre = [f'd-{i}' for i in range(DAYS_PRE, 0, -1)]\n",
    "cols_next = [f'd{i}' for i in range(1, DAYS_NEXT + 1)]\n",
    "filename_output = f'跌买_前{DAYS_PRE}日_跌{DIE}买_后{DAYS_NEXT}日_涨跌统计_{str_today}.csv'\n",
    "df_out = pd.DataFrame()\n",
    "dict_code_x = {}\n",
    "\n",
    "for code in df['code']:\n",
    "    print(code, end='\\r')\n",
    "    df_process = pd.read_csv(f'../big_a_ds/process_daily/{code}.csv')\n",
    "    if df_process.iloc[-1]['日期'] != str_today: continue #停牌票\n",
    "    if len(df_process) < DURATION + DAYS_PRE + DAYS_NEXT + DAYS_NEXT: continue #不够数量\n",
    "    \n",
    "    df_select = df_process[-DURATION - DAYS_NEXT : -DAYS_NEXT]\n",
    "    df_select = df_select[['日期'] + cols_pre + cols_next]\n",
    "    df_select[f'前{DAYS_PRE}日最大跌幅'] = df_select[cols_pre].max(axis=1)\n",
    "    df_select[f'后{DAYS_NEXT}日最大涨幅'] = df_select[cols_next].max(axis=1)\n",
    "    df_select = df_select[['日期', f'前{DAYS_PRE}日最大跌幅', f'后{DAYS_NEXT}日最大涨幅']]   \n",
    "    \n",
    "    df_select = df_select[df_select[f'前{DAYS_PRE}日最大跌幅'] >= DIE]\n",
    "    df_select = df_select[[f'后{DAYS_NEXT}日最大涨幅']]\n",
    "    dict_code_x[code] = df_select[f'后{DAYS_NEXT}日最大涨幅']     \n",
    " \n",
    "    df_stat = df_select.describe().transpose()\n",
    "    df_stat['code'] = code\n",
    "    \n",
    "    df_hist = pd.read_csv(f'../big_a_data/hist_daily/{code}.csv')\n",
    "    value_close = df_hist.iloc[-1]['收盘']\n",
    "    value_max = max(df_hist[-5 : ]['最高'])\n",
    "    rate = (value_max / value_close - 1) * 100\n",
    "    if rate >= DIE:\n",
    "        df_stat[str_today] = 'YES'\n",
    "    else:\n",
    "        df_stat[str_today] = 'NO'    \n",
    "        \n",
    "    df_out = pd.concat([df_out, df_stat], ignore_index=True)\n",
    "\n",
    "df_out = pd.merge(df, df_out, on='code', how='inner')\n",
    "print('\\r\\nDone', len(df_out))"
   ],
   "id": "43c5a2c1ac6e6077",
   "outputs": [
    {
     "name": "stdout",
     "output_type": "stream",
     "text": [
      "920002\r\n",
      "Done 3599\n"
     ]
    }
   ],
   "execution_count": 243
  },
  {
   "metadata": {
    "ExecuteTime": {
     "end_time": "2024-07-28T16:41:41.181228Z",
     "start_time": "2024-07-28T16:41:41.172810Z"
    }
   },
   "cell_type": "code",
   "source": [
    "df_out.drop(['上市时间', '最新', '涨幅'], axis=1, inplace=True)\n",
    "df_out.head(3)"
   ],
   "id": "c87d450164cfe792",
   "outputs": [
    {
     "data": {
      "text/plain": [
       "     code  name     行业  股息率_2023  count      mean       std   min     25%  \\\n",
       "0  000001  平安银行     银行       7.1   81.0  2.384074  2.549622 -0.43  0.5400   \n",
       "1  000002   万科A  房地产开发       0.0  176.0  3.568068  4.555189 -2.09  0.8425   \n",
       "2  000004  国华网安   软件开发       0.0  258.0  8.421705  8.230911 -4.35  2.2575   \n",
       "\n",
       "     50%      75%    max 2024-07-26  \n",
       "0  1.600   3.4100  11.30         NO  \n",
       "1  2.025   4.7175  27.36         NO  \n",
       "2  6.350  12.4900  46.45        YES  "
      ],
      "text/html": [
       "<div>\n",
       "<style scoped>\n",
       "    .dataframe tbody tr th:only-of-type {\n",
       "        vertical-align: middle;\n",
       "    }\n",
       "\n",
       "    .dataframe tbody tr th {\n",
       "        vertical-align: top;\n",
       "    }\n",
       "\n",
       "    .dataframe thead th {\n",
       "        text-align: right;\n",
       "    }\n",
       "</style>\n",
       "<table border=\"1\" class=\"dataframe\">\n",
       "  <thead>\n",
       "    <tr style=\"text-align: right;\">\n",
       "      <th></th>\n",
       "      <th>code</th>\n",
       "      <th>name</th>\n",
       "      <th>行业</th>\n",
       "      <th>股息率_2023</th>\n",
       "      <th>count</th>\n",
       "      <th>mean</th>\n",
       "      <th>std</th>\n",
       "      <th>min</th>\n",
       "      <th>25%</th>\n",
       "      <th>50%</th>\n",
       "      <th>75%</th>\n",
       "      <th>max</th>\n",
       "      <th>2024-07-26</th>\n",
       "    </tr>\n",
       "  </thead>\n",
       "  <tbody>\n",
       "    <tr>\n",
       "      <th>0</th>\n",
       "      <td>000001</td>\n",
       "      <td>平安银行</td>\n",
       "      <td>银行</td>\n",
       "      <td>7.1</td>\n",
       "      <td>81.0</td>\n",
       "      <td>2.384074</td>\n",
       "      <td>2.549622</td>\n",
       "      <td>-0.43</td>\n",
       "      <td>0.5400</td>\n",
       "      <td>1.600</td>\n",
       "      <td>3.4100</td>\n",
       "      <td>11.30</td>\n",
       "      <td>NO</td>\n",
       "    </tr>\n",
       "    <tr>\n",
       "      <th>1</th>\n",
       "      <td>000002</td>\n",
       "      <td>万科A</td>\n",
       "      <td>房地产开发</td>\n",
       "      <td>0.0</td>\n",
       "      <td>176.0</td>\n",
       "      <td>3.568068</td>\n",
       "      <td>4.555189</td>\n",
       "      <td>-2.09</td>\n",
       "      <td>0.8425</td>\n",
       "      <td>2.025</td>\n",
       "      <td>4.7175</td>\n",
       "      <td>27.36</td>\n",
       "      <td>NO</td>\n",
       "    </tr>\n",
       "    <tr>\n",
       "      <th>2</th>\n",
       "      <td>000004</td>\n",
       "      <td>国华网安</td>\n",
       "      <td>软件开发</td>\n",
       "      <td>0.0</td>\n",
       "      <td>258.0</td>\n",
       "      <td>8.421705</td>\n",
       "      <td>8.230911</td>\n",
       "      <td>-4.35</td>\n",
       "      <td>2.2575</td>\n",
       "      <td>6.350</td>\n",
       "      <td>12.4900</td>\n",
       "      <td>46.45</td>\n",
       "      <td>YES</td>\n",
       "    </tr>\n",
       "  </tbody>\n",
       "</table>\n",
       "</div>"
      ]
     },
     "execution_count": 244,
     "metadata": {},
     "output_type": "execute_result"
    }
   ],
   "execution_count": 244
  },
  {
   "metadata": {
    "ExecuteTime": {
     "end_time": "2024-07-28T16:44:40.917439Z",
     "start_time": "2024-07-28T16:44:40.887436Z"
    }
   },
   "cell_type": "code",
   "source": [
    "df_out.sort_values(by = [str_today, 'min'],\n",
    "                   ascending = False,\n",
    "                   inplace = True)\n",
    "df_out.to_csv(filename_output, index=False)"
   ],
   "id": "72d903f603d2a5e7",
   "outputs": [],
   "execution_count": 247
  },
  {
   "metadata": {
    "ExecuteTime": {
     "end_time": "2024-07-28T16:41:41.322027Z",
     "start_time": "2024-07-28T16:41:41.207697Z"
    }
   },
   "cell_type": "code",
   "source": [
    "import matplotlib.pyplot as plt\n",
    "%matplotlib inline\n",
    "plt.rcParams.update({'figure.figsize':(7,5), 'figure.dpi':100})\n",
    "\n",
    "code = '600674'\n",
    "x = dict_code_x[code]\n",
    "plt.hist(x, bins=50)\n",
    "plt.gca().set(title=f'Frequency Histogram {code}', ylabel='Frequency')"
   ],
   "id": "147c9e24e1bdff24",
   "outputs": [
    {
     "data": {
      "text/plain": [
       "[Text(0.5, 1.0, 'Frequency Histogram 600674'), Text(0, 0.5, 'Frequency')]"
      ]
     },
     "execution_count": 246,
     "metadata": {},
     "output_type": "execute_result"
    },
    {
     "data": {
      "text/plain": [
       "<Figure size 700x500 with 1 Axes>"
      ],
      "image/png": "[encoded data removed]"
     },
     "metadata": {},
     "output_type": "display_data"
    }
   ],
   "execution_count": 246
  }
 ],
 "metadata": {
  "kernelspec": {
   "display_name": "Python 3",
   "language": "python",
   "name": "python3"
  },
  "language_info": {
   "codemirror_mode": {
    "name": "ipython",
    "version": 2
   },
   "file_extension": ".py",
   "mimetype": "text/x-python",
   "name": "python",
   "nbconvert_exporter": "python",
   "pygments_lexer": "ipython2",
   "version": "2.7.6"
  }
 },
 "nbformat": 4,
 "nbformat_minor": 5
}
